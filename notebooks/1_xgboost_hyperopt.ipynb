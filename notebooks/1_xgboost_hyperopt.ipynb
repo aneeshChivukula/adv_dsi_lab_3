{
 "cells": [
  {
   "cell_type": "code",
   "execution_count": 1,
   "metadata": {},
   "outputs": [],
   "source": [
    "import boto3\n",
    "import pandas as pd\n",
    "import numpy as np"
   ]
  },
  {
   "cell_type": "code",
   "execution_count": 2,
   "metadata": {},
   "outputs": [],
   "source": [
    "def list_bucket_contents(bucket, match=''):\n",
    "    s3_resource = boto3.resource('s3')\n",
    "    bucket_resource = s3_resource.Bucket(bucket)\n",
    "    for key in bucket_resource.objects.all():\n",
    "        if match in key.key:\n",
    "            print(key.key)"
   ]
  },
  {
   "cell_type": "code",
   "execution_count": 3,
   "metadata": {},
   "outputs": [
    {
     "name": "stdout",
     "output_type": "stream",
     "text": [
      "trip data/fhv_tripdata_2020-01.csv\n",
      "trip data/fhv_tripdata_2020-02.csv\n",
      "trip data/fhv_tripdata_2020-03.csv\n",
      "trip data/fhv_tripdata_2020-04.csv\n",
      "trip data/fhv_tripdata_2020-05.csv\n",
      "trip data/fhv_tripdata_2020-06.csv\n",
      "trip data/fhv_tripdata_2020-07.csv\n",
      "trip data/fhv_tripdata_2020-08.csv\n",
      "trip data/fhv_tripdata_2020-09.csv\n",
      "trip data/fhv_tripdata_2020-10.csv\n",
      "trip data/fhv_tripdata_2020-11.csv\n",
      "trip data/fhv_tripdata_2020-12.csv\n",
      "trip data/fhvhv_tripdata_2020-01.csv\n",
      "trip data/fhvhv_tripdata_2020-02.csv\n",
      "trip data/fhvhv_tripdata_2020-03.csv\n",
      "trip data/fhvhv_tripdata_2020-04.csv\n",
      "trip data/fhvhv_tripdata_2020-05.csv\n",
      "trip data/fhvhv_tripdata_2020-06.csv\n",
      "trip data/fhvhv_tripdata_2020-07.csv\n",
      "trip data/fhvhv_tripdata_2020-08.csv\n",
      "trip data/fhvhv_tripdata_2020-09.csv\n",
      "trip data/fhvhv_tripdata_2020-10.csv\n",
      "trip data/fhvhv_tripdata_2020-11.csv\n",
      "trip data/fhvhv_tripdata_2020-12.csv\n",
      "trip data/green_tripdata_2020-01.csv\n",
      "trip data/green_tripdata_2020-02.csv\n",
      "trip data/green_tripdata_2020-03.csv\n",
      "trip data/green_tripdata_2020-04.csv\n",
      "trip data/green_tripdata_2020-05.csv\n",
      "trip data/green_tripdata_2020-06.csv\n",
      "trip data/green_tripdata_2020-07.csv\n",
      "trip data/green_tripdata_2020-08.csv\n",
      "trip data/green_tripdata_2020-09.csv\n",
      "trip data/green_tripdata_2020-10.csv\n",
      "trip data/green_tripdata_2020-11.csv\n",
      "trip data/green_tripdata_2020-12.csv\n",
      "trip data/yellow_tripdata_2020-01.csv\n",
      "trip data/yellow_tripdata_2020-02.csv\n",
      "trip data/yellow_tripdata_2020-03.csv\n",
      "trip data/yellow_tripdata_2020-04.csv\n",
      "trip data/yellow_tripdata_2020-05.csv\n",
      "trip data/yellow_tripdata_2020-06.csv\n",
      "trip data/yellow_tripdata_2020-07.csv\n",
      "trip data/yellow_tripdata_2020-08.csv\n",
      "trip data/yellow_tripdata_2020-09.csv\n",
      "trip data/yellow_tripdata_2020-10.csv\n",
      "trip data/yellow_tripdata_2020-11.csv\n",
      "trip data/yellow_tripdata_2020-12.csv\n"
     ]
    }
   ],
   "source": [
    "list_bucket_contents(bucket='nyc-tlc', match='2020')"
   ]
  },
  {
   "cell_type": "code",
   "execution_count": 68,
   "metadata": {},
   "outputs": [
    {
     "name": "stderr",
     "output_type": "stream",
     "text": [
      "/opt/conda/lib/python3.7/site-packages/IPython/core/interactiveshell.py:3063: DtypeWarning: Columns (6) have mixed types. Specify dtype option on import or set low_memory=False.\n",
      "  interactivity=interactivity, compiler=compiler, result=result)\n"
     ]
    }
   ],
   "source": [
    "df = pd.read_csv('s3://nyc-tlc/trip data/yellow_tripdata_2020-04.csv')"
   ]
  },
  {
   "cell_type": "code",
   "execution_count": 69,
   "metadata": {},
   "outputs": [
    {
     "data": {
      "text/plain": [
       "Index(['VendorID', 'tpep_pickup_datetime', 'tpep_dropoff_datetime',\n",
       "       'passenger_count', 'trip_distance', 'RatecodeID', 'store_and_fwd_flag',\n",
       "       'PULocationID', 'DOLocationID', 'payment_type', 'fare_amount', 'extra',\n",
       "       'mta_tax', 'tip_amount', 'tolls_amount', 'improvement_surcharge',\n",
       "       'total_amount', 'congestion_surcharge'],\n",
       "      dtype='object')"
      ]
     },
     "execution_count": 69,
     "metadata": {},
     "output_type": "execute_result"
    }
   ],
   "source": [
    "df.head()\n",
    "df.columns"
   ]
  },
  {
   "cell_type": "code",
   "execution_count": 70,
   "metadata": {},
   "outputs": [],
   "source": [
    "df.to_csv('../data/raw/yellow_tripdata_2020-04.csv')"
   ]
  },
  {
   "cell_type": "code",
   "execution_count": 72,
   "metadata": {},
   "outputs": [
    {
     "data": {
      "text/plain": [
       "Index(['VendorID', 'tpep_pickup_datetime', 'tpep_dropoff_datetime',\n",
       "       'passenger_count', 'trip_distance', 'RatecodeID', 'store_and_fwd_flag',\n",
       "       'PULocationID', 'DOLocationID', 'payment_type', 'fare_amount', 'extra',\n",
       "       'mta_tax', 'tip_amount', 'tolls_amount', 'improvement_surcharge',\n",
       "       'total_amount', 'congestion_surcharge'],\n",
       "      dtype='object')"
      ]
     },
     "execution_count": 72,
     "metadata": {},
     "output_type": "execute_result"
    }
   ],
   "source": [
    "df_cleaned = df.copy()\n",
    "df_cleaned.columns"
   ]
  },
  {
   "cell_type": "code",
   "execution_count": 73,
   "metadata": {},
   "outputs": [
    {
     "name": "stdout",
     "output_type": "stream",
     "text": [
      "The autoreload extension is already loaded. To reload it, use:\n",
      "  %reload_ext autoreload\n"
     ]
    }
   ],
   "source": [
    "%load_ext autoreload\n",
    "%autoreload 2"
   ]
  },
  {
   "cell_type": "code",
   "execution_count": 75,
   "metadata": {},
   "outputs": [],
   "source": [
    "from src.features.dates import convert_to_date"
   ]
  },
  {
   "cell_type": "code",
   "execution_count": 76,
   "metadata": {},
   "outputs": [],
   "source": [
    "df_cleaned = convert_to_date(df_cleaned, ['tpep_pickup_datetime', 'tpep_dropoff_datetime'])"
   ]
  },
  {
   "cell_type": "code",
   "execution_count": 80,
   "metadata": {},
   "outputs": [
    {
     "name": "stdout",
     "output_type": "stream",
     "text": [
      "0         1231.0\n",
      "1          805.0\n",
      "2          539.0\n",
      "3          600.0\n",
      "4          302.0\n",
      "           ...  \n",
      "237988    1200.0\n",
      "237989     300.0\n",
      "237990     333.0\n",
      "237991    1296.0\n",
      "237992    1033.0\n",
      "Length: 237993, dtype: float64\n"
     ]
    }
   ],
   "source": [
    "df_cleaned['trip_duration'] = (df_cleaned['tpep_dropoff_datetime'] - df_cleaned['tpep_pickup_datetime']).dt.total_seconds()"
   ]
  },
  {
   "cell_type": "code",
   "execution_count": 81,
   "metadata": {},
   "outputs": [
    {
     "name": "stdout",
     "output_type": "stream",
     "text": [
      "0         x<30min\n",
      "1         x<30min\n",
      "2         x<10min\n",
      "3         x<10min\n",
      "4         x<10min\n",
      "           ...   \n",
      "237988    x<30min\n",
      "237989     x<5min\n",
      "237990    x<10min\n",
      "237991    x<30min\n",
      "237992    x<30min\n",
      "Name: trip_duration, Length: 237993, dtype: category\n",
      "Categories (4, object): [x<5min < x<10min < x<30min < x>=30min]\n"
     ]
    }
   ],
   "source": [
    "df_cleaned['trip_duration'] = pd.cut(df_cleaned['trip_duration'], bins=[0, 300, 600, 1800, 100000], labels=['x<5min', 'x<10min', 'x<30min', 'x>=30min'])"
   ]
  },
  {
   "cell_type": "code",
   "execution_count": 14,
   "metadata": {},
   "outputs": [],
   "source": [
    "df_cleaned['tpep_pickup_dayofmonth'] = df_cleaned['tpep_pickup_datetime'].dt.day"
   ]
  },
  {
   "cell_type": "code",
   "execution_count": 15,
   "metadata": {},
   "outputs": [],
   "source": [
    "df_cleaned['tpep_pickup_hourofday'] = df_cleaned['tpep_pickup_datetime'].dt.hour"
   ]
  },
  {
   "cell_type": "code",
   "execution_count": 16,
   "metadata": {},
   "outputs": [],
   "source": [
    "df_cleaned['tpep_pickup_dayofweek'] = df_cleaned['tpep_pickup_datetime'].dt.dayofweek"
   ]
  },
  {
   "cell_type": "code",
   "execution_count": 17,
   "metadata": {},
   "outputs": [],
   "source": [
    "df_cleaned = pd.get_dummies(df_cleaned, columns=['VendorID', 'RatecodeID', 'store_and_fwd_flag'])"
   ]
  },
  {
   "cell_type": "code",
   "execution_count": 18,
   "metadata": {},
   "outputs": [],
   "source": [
    "df_cleaned.drop(['tpep_pickup_datetime', 'tpep_dropoff_datetime', 'PULocationID', 'DOLocationID'], axis=1, inplace=True)"
   ]
  },
  {
   "cell_type": "code",
   "execution_count": 19,
   "metadata": {},
   "outputs": [],
   "source": [
    "df_cleaned.to_csv('../data/interim/yellow_tripdata_2020-04_prepared.csv')"
   ]
  },
  {
   "cell_type": "code",
   "execution_count": 107,
   "metadata": {},
   "outputs": [
    {
     "name": "stdout",
     "output_type": "stream",
     "text": [
      "[[2.0 Timestamp('2020-04-07 07:38:25') Timestamp('2020-04-07 07:47:00')\n",
      "  ... 0.3 12.88 0.0]\n",
      " [1.0 Timestamp('2020-04-14 11:13:36') Timestamp('2020-04-14 11:14:53')\n",
      "  ... 0.3 6.8 2.5]\n",
      " [1.0 Timestamp('2020-04-03 12:13:39') Timestamp('2020-04-03 12:24:32')\n",
      "  ... 0.3 10.8 0.0]\n",
      " ...\n",
      " [1.0 Timestamp('2020-04-17 00:21:47') Timestamp('2020-04-17 00:46:41')\n",
      "  ... 0.3 76.42 0.0]\n",
      " [nan Timestamp('2020-04-22 15:02:22') Timestamp('2020-04-22 15:25:28')\n",
      "  ... 0.3 18.45 0.0]\n",
      " [1.0 Timestamp('2020-04-03 10:37:04') Timestamp('2020-04-03 10:41:36')\n",
      "  ... 0.3 7.8 2.5]]\n"
     ]
    }
   ],
   "source": [
    "from src.data.sets import split_sets_random\n",
    "\n",
    "X_train, y_train, X_val, y_val, X_test, y_test = split_sets_random(df_cleaned, target_col='trip_duration', test_ratio=0.2, to_numpy=True)"
   ]
  },
  {
   "cell_type": "code",
   "execution_count": 48,
   "metadata": {},
   "outputs": [],
   "source": [
    "from src.data.sets import save_sets\n",
    "\n",
    "save_sets(X_train, y_train, X_val, y_val, X_test, y_test, path='../data/processed/')"
   ]
  },
  {
   "cell_type": "code",
   "execution_count": 51,
   "metadata": {},
   "outputs": [],
   "source": [
    "from src.models.null import NullModel"
   ]
  },
  {
   "cell_type": "code",
   "execution_count": 52,
   "metadata": {},
   "outputs": [],
   "source": [
    "base_model = NullModel(target_type=\"classification\")"
   ]
  },
  {
   "cell_type": "code",
   "execution_count": 109,
   "metadata": {},
   "outputs": [],
   "source": [
    "y_train = pd.DataFrame(y_train).dropna().to_numpy()\n",
    "y_base = base_model.fit_predict(y_train)"
   ]
  },
  {
   "cell_type": "code",
   "execution_count": 111,
   "metadata": {},
   "outputs": [
    {
     "name": "stdout",
     "output_type": "stream",
     "text": [
      "y_actuals [['x<10min']\n",
      " ['x<5min']\n",
      " ['x<30min']\n",
      " ...\n",
      " ['x<30min']\n",
      " ['x<30min']\n",
      " ['x<5min']]\n",
      "y_preds ['x<10min' 'x<10min' 'x<10min' ... 'x<10min' 'x<10min' 'x<10min']\n",
      "Accuracy Training: 0.3458092019464038\n",
      "F1 Training: 0.17771316168422369\n"
     ]
    }
   ],
   "source": [
    "from src.models.performance import print_class_perf\n",
    "print_class_perf(y_preds=y_base.flatten(), y_actuals=y_train, set_name='Training', average='weighted')"
   ]
  },
  {
   "cell_type": "code",
   "execution_count": null,
   "metadata": {},
   "outputs": [],
   "source": []
  }
 ],
 "metadata": {
  "kernelspec": {
   "display_name": "Python 3",
   "language": "python",
   "name": "python3"
  },
  "language_info": {
   "codemirror_mode": {
    "name": "ipython",
    "version": 3
   },
   "file_extension": ".py",
   "mimetype": "text/x-python",
   "name": "python",
   "nbconvert_exporter": "python",
   "pygments_lexer": "ipython3",
   "version": "3.7.6"
  }
 },
 "nbformat": 4,
 "nbformat_minor": 4
}
